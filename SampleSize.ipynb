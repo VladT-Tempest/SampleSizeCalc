{
 "cells": [
  {
   "cell_type": "code",
   "execution_count": 5,
   "metadata": {},
   "outputs": [],
   "source": [
    "import math"
   ]
  },
  {
   "attachments": {},
   "cell_type": "markdown",
   "metadata": {},
   "source": [
    "## **Objective**: calculate the sample size for a client survey"
   ]
  },
  {
   "attachments": {},
   "cell_type": "markdown",
   "metadata": {},
   "source": [
    "An optical office has hired our services to conduct a patient satisfaction survey. Additionally, they want to evaluate the methods by which they find out about the services provided by the optician and the media in which they have seen advertising related to the brand.\n",
    "The exercise is about finding the sample size."
   ]
  },
  {
   "attachments": {},
   "cell_type": "markdown",
   "metadata": {},
   "source": [
    "Here is a Python function that can calculate the sample size needed for a survey, given the population size, the desired confidence level, and the allowable margin of error:"
   ]
  },
  {
   "cell_type": "code",
   "execution_count": 6,
   "metadata": {},
   "outputs": [],
   "source": [
    "def sample_size(population, confidence, error):\n",
    "    z = 1.96  # Z value for a confidence level of 95%\n",
    "    p = 0.5   # we suppose a probability of success of 0.5\n",
    "    e = error/100\n",
    "    n = (z**2 * p * (1-p)) / (e**2)\n",
    "    return math.ceil(n / (1 + ((n-1) / population)))\n"
   ]
  },
  {
   "attachments": {},
   "cell_type": "markdown",
   "metadata": {},
   "source": [
    "The formula for calculating the sample size is based on statistical theory and assumes a normal distribution of the population. This calculation is done in two stages: first, the number of people needed to have a certain level of precision (n) is determined, and then rounded up to get an integer."
   ]
  },
  {
   "attachments": {},
   "cell_type": "markdown",
   "metadata": {},
   "source": [
    "### Things to remember when determining the size of your sample:\n",
    "When figuring out a sample size, here are things to keep in mind:\n",
    "\n",
    "- Don’t use a sample size less than 30. It has been statistically proven that 30 is the smallest sample size where an average result of a sample starts to represent the average result of a population.\n",
    "\n",
    "- The confidence level most commonly used is 95%, but 90% can work in some cases. \n",
    "\n",
    "Increase the sample size to meet specific needs of your project:\n",
    "\n",
    "- For a higher confidence level, use a larger sample size\n",
    "\n",
    "- To decrease the margin of error, use a larger sample size\n",
    "\n",
    "- For greater statistical significance, use a larger sample size"
   ]
  },
  {
   "attachments": {},
   "cell_type": "markdown",
   "metadata": {},
   "source": [
    "## Population analysis\n",
    "\n",
    "the patient database indicates that there are 1850 patients registered for optics. Carrying out a quick analysis of the registered email field for these patients, we find that 410 have it blank and another 10 are invalid records. Since the survey will be sent by email we are left with 1430 patients as a population."
   ]
  },
  {
   "cell_type": "code",
   "execution_count": 19,
   "metadata": {},
   "outputs": [
    {
     "name": "stdout",
     "output_type": "stream",
     "text": [
      "Sample Size Required: 303, with a population: 1430, confidence: 95 and Margin error: 5\n"
     ]
    }
   ],
   "source": [
    "population = 1430\n",
    "confidence = 95\n",
    "error = 5\n",
    "\n",
    "required_sample = sample_size(population, confidence, error)\n",
    "print(f'Sample Size Required: {required_sample}, with a population: {population}, confidence: {confidence} and Margin error: {error}')"
   ]
  },
  {
   "attachments": {},
   "cell_type": "markdown",
   "metadata": {},
   "source": [
    "### changing the Margin error to 3%"
   ]
  },
  {
   "cell_type": "code",
   "execution_count": 20,
   "metadata": {},
   "outputs": [
    {
     "name": "stdout",
     "output_type": "stream",
     "text": [
      "Sample Size Required: 303, with a population: 1430, confidence: 95 and Margin error: 3\n"
     ]
    }
   ],
   "source": [
    "population = 1430\n",
    "confidence = 95\n",
    "error = 3\n",
    "\n",
    "required_sample2 = sample_size(population, confidence, error)\n",
    "print(f'Sample Size Required: {required_sample}, with a population: {population}, confidence: {confidence} and Margin error: {error}')"
   ]
  },
  {
   "attachments": {},
   "cell_type": "markdown",
   "metadata": {},
   "source": [
    "### Survey response rate\n",
    " the calculated sample size is the minimum number to achieve what you input for confidence level and margin of error. If you are working with a survey, you will also need to think about the estimated response rate to figure out how many surveys you will need to send out.\n",
    "\n",
    "By experience just 62% of patients answer the surveys so:"
   ]
  },
  {
   "cell_type": "code",
   "execution_count": 22,
   "metadata": {},
   "outputs": [
    {
     "name": "stdout",
     "output_type": "stream",
     "text": [
      "Population required to answer the survey supposed error 5% : 489\n"
     ]
    }
   ],
   "source": [
    "populationToSurvey = required_sample * 100 / 62\n",
    "print(f'Population required to answer the survey supposed error 5% : {round(populationToSurvey)}' )"
   ]
  },
  {
   "cell_type": "code",
   "execution_count": 24,
   "metadata": {},
   "outputs": [
    {
     "name": "stdout",
     "output_type": "stream",
     "text": [
      "Population required to answer the survey supposed error 3% : 987\n"
     ]
    }
   ],
   "source": [
    "populationToSurvey = required_sample2 * 100 / 62\n",
    "print(f'Population required to answer the survey supposed error 3% : {round(populationToSurvey)}' )"
   ]
  },
  {
   "attachments": {},
   "cell_type": "markdown",
   "metadata": {},
   "source": [
    "Due to manipulation analysis of the survey answer Margin error 5% is chosen."
   ]
  }
 ],
 "metadata": {
  "kernelspec": {
   "display_name": "base",
   "language": "python",
   "name": "python3"
  },
  "language_info": {
   "codemirror_mode": {
    "name": "ipython",
    "version": 3
   },
   "file_extension": ".py",
   "mimetype": "text/x-python",
   "name": "python",
   "nbconvert_exporter": "python",
   "pygments_lexer": "ipython3",
   "version": "3.8.13"
  },
  "orig_nbformat": 4,
  "vscode": {
   "interpreter": {
    "hash": "6575615a8e4bf2bce2073070fa9afe345e3f6bb4481a529180704a6478cdcccb"
   }
  }
 },
 "nbformat": 4,
 "nbformat_minor": 2
}
